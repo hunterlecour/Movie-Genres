{
 "cells": [
  {
   "cell_type": "code",
   "execution_count": 3,
   "id": "064494a3-f761-4ce9-a349-b06f704da370",
   "metadata": {},
   "outputs": [],
   "source": [
    "# # Step 1: Check if Git is installed\n",
    "# !git --version\n",
    "\n",
    "# # Step 2: Initialize a new Git repository\n",
    "# !git init\n",
    "\n",
    "# # Step 3: Add files to the repository\n",
    "# !git add .\n",
    "\n",
    "# # Add a Readme (if needed)\n",
    "# !git add README.md\n",
    "\n",
    "# # Step 4: Commit the changes\n",
    "# !git commit -m \"Initial commit\"\n",
    "\n",
    "# # Step 5: Check the current branch\n",
    "# !git branch\n",
    "\n",
    "# # Step 6: Create a new branch (if needed)\n",
    "# !git checkout -b new-branch-name  # Replace with your branch name\n",
    "\n",
    "# # Step 7: Add the remote repository\n",
    "# !git remote add origin https://github.com/yourusername/your-repo-name.git\n",
    "\n",
    "# # Step 8: Push the changes to GitHub\n",
    "# !git push -u origin new-branch-name  # or main, if that’s your branch\n"
   ]
  },
  {
   "cell_type": "code",
   "execution_count": 4,
   "id": "673e32e0-3254-47a2-aea4-9bc145eeda0c",
   "metadata": {},
   "outputs": [],
   "source": [
    "# On going Maintenance \n",
    "\n",
    "# # Step 1: Check the status of your repository\n",
    "# !git status\n",
    "\n",
    "# # Step 2: Stage the updated notebook\n",
    "# !git add .  # or !git add my_notebook.ipynb\n",
    "\n",
    "# # Step 3: Commit the changes\n",
    "# !git commit -m \"Updated my_notebook with new analysis\"  # Customize the message\n",
    "\n",
    "# # Step 4: Push the changes to GitHub\n",
    "# !git push origin new-branch-name  # or !git push origin main\n"
   ]
  },
  {
   "cell_type": "code",
   "execution_count": 2,
   "id": "81cb4fe8-9515-4d33-bac2-775dac27e7b4",
   "metadata": {},
   "outputs": [
    {
     "name": "stdout",
     "output_type": "stream",
     "text": [
      "Initialized empty Git repository in C:/Users/hunte/Movie Genres Project/.git/\n"
     ]
    }
   ],
   "source": [
    "! git init"
   ]
  },
  {
   "cell_type": "code",
   "execution_count": 3,
   "id": "b6f5481b-5ce4-4f8e-aff7-80ab99ea0b82",
   "metadata": {},
   "outputs": [
    {
     "name": "stdout",
     "output_type": "stream",
     "text": [
      "On branch master\n",
      "\n",
      "Initial commit\n",
      "\n",
      "Untracked files:\n",
      "  (use \"git add <file>...\" to include in what will be committed)\n",
      "\t.ipynb_checkpoints/\n",
      "\tMovie Genre Data Analysis.ipynb\n",
      "\tgit_commands.ipynb\n",
      "\n",
      "nothing added to commit but untracked files present (use \"git add\" to track)\n"
     ]
    }
   ],
   "source": [
    "! git commit -m \"first commit\""
   ]
  },
  {
   "cell_type": "code",
   "execution_count": 4,
   "id": "fd081794-e4fc-4832-8944-f379b993fa1c",
   "metadata": {},
   "outputs": [],
   "source": [
    "! git branch -M main"
   ]
  },
  {
   "cell_type": "code",
   "execution_count": 5,
   "id": "92616c31-9857-42a7-a699-9cd4e5f96b12",
   "metadata": {},
   "outputs": [],
   "source": [
    "! git remote add origin https://github.com/hunterlecour/Movie-Genres.git"
   ]
  },
  {
   "cell_type": "code",
   "execution_count": 6,
   "id": "73ba06db-d6bb-457b-8c80-13773f7c955b",
   "metadata": {},
   "outputs": [
    {
     "name": "stderr",
     "output_type": "stream",
     "text": [
      "error: src refspec main does not match any\n",
      "error: failed to push some refs to 'https://github.com/hunterlecour/Movie-Genres.git'\n"
     ]
    }
   ],
   "source": [
    "! git push -u origin main"
   ]
  },
  {
   "cell_type": "code",
   "execution_count": null,
   "id": "4bb5611f-6d39-4317-9460-fc24ee9bc39e",
   "metadata": {},
   "outputs": [],
   "source": []
  },
  {
   "cell_type": "code",
   "execution_count": 1,
   "id": "d7353d65-758e-4444-8a2f-dcc02f0d11fc",
   "metadata": {},
   "outputs": [
    {
     "name": "stdout",
     "output_type": "stream",
     "text": [
      "On branch master\n",
      "\n",
      "No commits yet\n",
      "\n",
      "Untracked files:\n",
      "  (use \"git add <file>...\" to include in what will be committed)\n",
      "\t../.anaconda/\n",
      "\t../.bash_history\n",
      "\t../.cache/\n",
      "\t../.conda/\n",
      "\t../.condarc\n",
      "\t../.config/\n",
      "\t../.continuum/\n",
      "\t../.gitconfig\n",
      "\t../.ipynb_checkpoints/\n",
      "\t../.ipython/\n",
      "\t../.jupyter/\n",
      "\t../.lesshst\n",
      "\t../.matplotlib/\n",
      "\t../.spyder-py3/\n",
      "\t../.viminfo\n",
      "\t../.virtual_documents/\n",
      "\t../.wdm/\n",
      "\t../AAA_python_tutorial_1.ipynb\n",
      "\t../AppData/\n",
      "\t../Contacts/\n",
      "\t../Creating a Zip.ipynb\n",
      "\t../Creative Cloud Files/\n",
      "\t../Desktop/\n",
      "\t../Documents/\n",
      "\t../Downloads/\n",
      "\t../Extract Code.ipynb\n",
      "\t../Favorites/\n",
      "\t../IntelGraphicsProfiles/\n",
      "\t../Jedi/\n",
      "\t../Links/\n",
      "\t../Microsoft/\n",
      "\t./\n",
      "\t../Music/\n",
      "\t../NTUSER.DAT\n",
      "\t../NTUSER.DAT{a2332f18-cdbf-11ec-8680-002248483d79}.TM.blf\n",
      "\t../NTUSER.DAT{a2332f18-cdbf-11ec-8680-002248483d79}.TMContainer00000000000000000001.regtrans-ms\n",
      "\t../NTUSER.DAT{a2332f18-cdbf-11ec-8680-002248483d79}.TMContainer00000000000000000002.regtrans-ms\n",
      "\t../OneDrive/\n",
      "\t../Pandas-Analysis-main.zip\n",
      "\t../Pandas_Python.zip\n",
      "\t../Pandas_Python/\n",
      "\t../Pictures/\n",
      "\t../Saved Games/\n",
      "\t../Searches/\n",
      "\t../Untitled1.ipynb\n",
      "\t../Untitled2.ipynb\n",
      "\t../Untitled3.ipynb\n",
      "\t../Untitled4.ipynb\n",
      "\t../Videos/\n",
      "\t../anaconda3/\n",
      "\t../delete folder.ipynb\n",
      "\t../extracted_files/\n",
      "\t../java_error_in_pycharm64_16140.log\n",
      "\t../java_error_in_pycharm64_17156.log\n",
      "\t../java_error_in_pycharm64_19704.log\n",
      "\t../java_error_in_pycharm64_7952.log\n",
      "\t../ntuser.dat.LOG1\n",
      "\t../ntuser.dat.LOG2\n",
      "\t../ntuser.ini\n",
      "\t../scoop/\n",
      "\n",
      "nothing added to commit but untracked files present (use \"git add\" to track)\n"
     ]
    },
    {
     "name": "stderr",
     "output_type": "stream",
     "text": [
      "warning: could not open directory 'Application Data/': Permission denied\n",
      "warning: could not open directory 'Cookies/': Permission denied\n",
      "warning: could not open directory 'Local Settings/': Permission denied\n",
      "warning: could not open directory 'My Documents/': Permission denied\n",
      "warning: could not open directory 'NetHood/': Permission denied\n",
      "warning: could not open directory 'PrintHood/': Permission denied\n",
      "warning: could not open directory 'Recent/': Permission denied\n",
      "warning: could not open directory 'SendTo/': Permission denied\n",
      "warning: could not open directory 'Start Menu/': Permission denied\n",
      "warning: could not open directory 'Templates/': Permission denied\n"
     ]
    }
   ],
   "source": [
    "!git status"
   ]
  },
  {
   "cell_type": "code",
   "execution_count": 6,
   "id": "e1901232-5d15-426c-bdb7-e7fa38c3a6b2",
   "metadata": {},
   "outputs": [
    {
     "name": "stderr",
     "output_type": "stream",
     "text": [
      "warning: in the working copy of '.ipynb_checkpoints/git_commands-checkpoint.ipynb', LF will be replaced by CRLF the next time Git touches it\n",
      "warning: in the working copy of '10. Introduction to Polars/2. Polars Basics.ipynb', LF will be replaced by CRLF the next time Git touches it\n",
      "warning: in the working copy of 'git_commands.ipynb', LF will be replaced by CRLF the next time Git touches it\n",
      "warning: in the working copy of '10. Introduction to Polars/.ipynb_checkpoints/2. Polars Basics-checkpoint.ipynb', LF will be replaced by CRLF the next time Git touches it\n"
     ]
    }
   ],
   "source": [
    "!git add ."
   ]
  },
  {
   "cell_type": "code",
   "execution_count": 7,
   "id": "73bf041a-07f7-4210-96e6-67ea7e5e8ec1",
   "metadata": {},
   "outputs": [
    {
     "name": "stdout",
     "output_type": "stream",
     "text": [
      "[main fefb63b] Updated\n",
      " 4 files changed, 980 insertions(+), 568 deletions(-)\n",
      " create mode 100644 10. Introduction to Polars/.ipynb_checkpoints/2. Polars Basics-checkpoint.ipynb\n"
     ]
    }
   ],
   "source": [
    "!git commit -m \"Updated\""
   ]
  },
  {
   "cell_type": "code",
   "execution_count": 8,
   "id": "7148b8b4-26d1-40e0-8c3e-44e7686a6ea6",
   "metadata": {},
   "outputs": [
    {
     "name": "stderr",
     "output_type": "stream",
     "text": [
      "To https://github.com/hunterlecour/Pandas_Python.git\n",
      "   62eac9d..fefb63b  main -> main\n"
     ]
    }
   ],
   "source": [
    "!git push origin main"
   ]
  },
  {
   "cell_type": "code",
   "execution_count": null,
   "id": "adc8afe2-73b5-4abd-97fa-882ff6a06cee",
   "metadata": {},
   "outputs": [],
   "source": []
  }
 ],
 "metadata": {
  "kernelspec": {
   "display_name": "Python 3 (ipykernel)",
   "language": "python",
   "name": "python3"
  },
  "language_info": {
   "codemirror_mode": {
    "name": "ipython",
    "version": 3
   },
   "file_extension": ".py",
   "mimetype": "text/x-python",
   "name": "python",
   "nbconvert_exporter": "python",
   "pygments_lexer": "ipython3",
   "version": "3.12.4"
  }
 },
 "nbformat": 4,
 "nbformat_minor": 5
}
